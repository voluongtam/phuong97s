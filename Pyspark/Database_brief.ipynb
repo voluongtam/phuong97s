{
 "cells": [
  {
   "cell_type": "code",
   "execution_count": 1,
   "metadata": {},
   "outputs": [
    {
     "name": "stdout",
     "output_type": "stream",
     "text": [
      "Welcome to\n",
      "      ____              __\n",
      "     / __/__  ___ _____/ /__\n",
      "    _\\ \\/ _ \\/ _ `/ __/  '_/\n",
      "   /__ / .__/\\_,_/_/ /_/\\_\\   version 2.3.0.2.6.5.1100-53\n",
      "      /_/\n",
      "\n",
      "Using Python version 3.6.5 (default, Apr  6 2018 13:39:56)\n",
      "SparkSession available as 'spark'.\n"
     ]
    }
   ],
   "source": [
    "import pyspark\n",
    "from pyspark.sql import functions as F\n",
    "from pyspark.sql import types as T\n",
    "from pyspark.shell import sqlContext\n",
    "from pyspark.sql import SparkSession\n",
    "from pyspark.sql.functions import col, substring\n",
    "from pyspark.sql import Window\n",
    "from pyspark.sql.functions import dense_rank\n",
    "from pyspark.sql.functions import row_number\n",
    "import pandas as pd"
   ]
  },
  {
   "cell_type": "code",
   "execution_count": 6,
   "metadata": {},
   "outputs": [],
   "source": [
    "df=spark.read.json('/ge/mkt/appannie/*/downloads_and_revenue/*')\n",
    "a=df.select(df.product_id,df.product_name,df.feed, df.estimate,df.country,df.end_date,df.publisher_id,df.publisher_name,df.parent_company_id,df.parent_company_name)"
   ]
  },
  {
   "cell_type": "code",
   "execution_count": 7,
   "metadata": {},
   "outputs": [
    {
     "name": "stdout",
     "output_type": "stream",
     "text": [
      "+--------------+--------------------+----+--------+-------+----------+--------------+----------------+-----------------+-------------------+\n",
      "|    product_id|        product_name|feed|estimate|country|  end_date|  publisher_id|  publisher_name|parent_company_id|parent_company_name|\n",
      "+--------------+--------------------+----+--------+-------+----------+--------------+----------------+-----------------+-------------------+\n",
      "|20600010081528|         Brawl Stars|free|    7723|     JP|2019-01-12|20200000120379|       Supercell| 1000200000016673|          Supercell|\n",
      "|20600010928153| 覇穹 封神演義 ～センカイクロニクル～|free|    5152|     JP|2019-01-12|20200002424223|    GMO GP, Inc.| 1000200000003514|                GMO|\n",
      "|20600001938601|     LINE：ディズニー ツムツム|free|    4945|     JP|2019-01-12|20200000201193|LINE Corporation| 1000200000037673|               LINE|\n",
      "|20600011010555|               非人類学園|free|    4781|     JP|2019-01-12|20200002497273|     X.D. Global| 1000200000021757|       X.D. Network|\n",
      "|20600005239614|ドラゴンエッグ 仲間との出会い×友...|free|    4452|     JP|2019-01-12|20200000198594|      Rudel inc.| 1000200000145063|              Rudel|\n",
      "+--------------+--------------------+----+--------+-------+----------+--------------+----------------+-----------------+-------------------+\n",
      "only showing top 5 rows\n",
      "\n"
     ]
    }
   ],
   "source": [
    "a.show(5)"
   ]
  },
  {
   "cell_type": "code",
   "execution_count": null,
   "metadata": {},
   "outputs": [],
   "source": []
  },
  {
   "cell_type": "code",
   "execution_count": 10,
   "metadata": {},
   "outputs": [
    {
     "name": "stdout",
     "output_type": "stream",
     "text": [
      "+----------+--------------------+-------+------------+--------------------+----------+----+\n",
      "|product_id|        product_name|country|publisher_id|      publisher_name|  end_date|rank|\n",
      "+----------+--------------------+-------+------------+--------------------+----------+----+\n",
      "| 321366355|      Rat On The Run|     CN|   310068844|         Donut Games|2020-11-03|   1|\n",
      "| 358327712|Airport Terminal ...|     CN|   309411049|Meridian Digital ...|2020-02-24|   1|\n",
      "| 404410628|         Winterbells|     CN|   400047223|         Ferry Halim|2020-08-07|   1|\n",
      "| 494302506|       Scotland Yard|     CN|  1505283467|Ravensburger Verl...|2020-11-03|   1|\n",
      "| 500108743|       仙劍奇俠傳5 - 劍傲丹楓|     CN|   443885994|SOFTSTAR ENTERTAI...|2020-11-07|   1|\n",
      "| 512142109|    Max Payne Mobile|     CN|   330049731|      Rockstar Games|2020-11-07|   1|\n",
      "| 547167853|        Groove Catch|     CN|   438953814|  WG Publishing Inc.|2018-09-08|   1|\n",
      "| 547174523|         Blast-A-Way|     CN|   297694604|       Illusion Labs|2020-07-26|   1|\n",
      "| 549350579|               Horn™|     CN|   452823335|Phosphor Games St...|2020-11-06|   1|\n",
      "| 569775187|    Fantashooting HD|     CN|   319322380|     Crazy Carpenter|2020-11-07|   1|\n",
      "+----------+--------------------+-------+------------+--------------------+----------+----+\n",
      "only showing top 10 rows\n",
      "\n"
     ]
    }
   ],
   "source": [
    "x=a.select(a.product_id,a.product_name,a.country,a.publisher_id,a.publisher_name, a.end_date).distinct()\n",
    "gg= Window.partitionBy(\"country\",\"product_ID\").orderBy(x.end_date.desc())\n",
    "y=x.withColumn(\"rank\",row_number().over(gg))\n",
    "xy=y.filter(y.rank=='1')\n",
    "xy.show(10)"
   ]
  },
  {
   "cell_type": "code",
   "execution_count": 11,
   "metadata": {},
   "outputs": [],
   "source": [
    "yz=xy.select(xy.product_id, xy.product_name, xy.country, xy.publisher_id,xy.publisher_name, xy.end_date)"
   ]
  },
  {
   "cell_type": "code",
   "execution_count": 16,
   "metadata": {},
   "outputs": [],
   "source": [
    "aa=a.join(yz,on=['product_id','country','end_date','publisher_id','product_name','publisher_name'],how='left')"
   ]
  },
  {
   "cell_type": "code",
   "execution_count": 17,
   "metadata": {},
   "outputs": [
    {
     "name": "stdout",
     "output_type": "stream",
     "text": [
      "+----------+-------+----------+------------+------------+--------------------+----+--------+-----------------+-------------------+\n",
      "|product_id|country|  end_date|publisher_id|product_name|      publisher_name|feed|estimate|parent_company_id|parent_company_name|\n",
      "+----------+-------+----------+------------+------------+--------------------+----+--------+-----------------+-------------------+\n",
      "| 281736535|     ID|2019-09-20|   281736538|      Enigmo|Pangea Software, ...|paid|       1| 1000200000021607|    Pangea Software|\n",
      "| 281736535|     ID|2020-09-08|   281736538|      Enigmo|Pangea Software, ...|paid|       1| 1000200000021607|    Pangea Software|\n",
      "| 281736535|     JP|2019-05-25|   281736538|      Enigmo|Pangea Software, ...|paid|       2| 1000200000021607|    Pangea Software|\n",
      "| 281736535|     KR|2019-05-20|   281736538|      Enigmo|Pangea Software, ...|paid|       1| 1000200000021607|    Pangea Software|\n",
      "| 281736535|     MY|2019-12-23|   281736538|      Enigmo|Pangea Software, ...|paid|       1| 1000200000021607|    Pangea Software|\n",
      "+----------+-------+----------+------------+------------+--------------------+----+--------+-----------------+-------------------+\n",
      "only showing top 5 rows\n",
      "\n"
     ]
    }
   ],
   "source": [
    "aa.show(5)"
   ]
  },
  {
   "cell_type": "code",
   "execution_count": 18,
   "metadata": {},
   "outputs": [],
   "source": [
    "bb=aa.withColumn('month', aa.end_date.substr(1, 7))"
   ]
  },
  {
   "cell_type": "code",
   "execution_count": 19,
   "metadata": {},
   "outputs": [
    {
     "name": "stdout",
     "output_type": "stream",
     "text": [
      "+----------+-------+----------+------------+------------+--------------------+----+--------+-----------------+-------------------+-------+\n",
      "|product_id|country|  end_date|publisher_id|product_name|      publisher_name|feed|estimate|parent_company_id|parent_company_name|  month|\n",
      "+----------+-------+----------+------------+------------+--------------------+----+--------+-----------------+-------------------+-------+\n",
      "| 281736535|     ID|2019-09-20|   281736538|      Enigmo|Pangea Software, ...|paid|       1| 1000200000021607|    Pangea Software|2019-09|\n",
      "| 281736535|     ID|2020-09-08|   281736538|      Enigmo|Pangea Software, ...|paid|       1| 1000200000021607|    Pangea Software|2020-09|\n",
      "| 281736535|     JP|2019-05-25|   281736538|      Enigmo|Pangea Software, ...|paid|       2| 1000200000021607|    Pangea Software|2019-05|\n",
      "| 281736535|     KR|2019-05-20|   281736538|      Enigmo|Pangea Software, ...|paid|       1| 1000200000021607|    Pangea Software|2019-05|\n",
      "| 281736535|     MY|2019-12-23|   281736538|      Enigmo|Pangea Software, ...|paid|       1| 1000200000021607|    Pangea Software|2019-12|\n",
      "+----------+-------+----------+------------+------------+--------------------+----+--------+-----------------+-------------------+-------+\n",
      "only showing top 5 rows\n",
      "\n"
     ]
    }
   ],
   "source": [
    "bb.show(5)"
   ]
  },
  {
   "cell_type": "code",
   "execution_count": 33,
   "metadata": {},
   "outputs": [],
   "source": [
    "b=bb.filter(bb.feed=='free').withColumnRenamed(\"estimate\",\"install\").drop('feed')\n",
    "install=b.groupBy('month','country','product_id','publisher_id','product_name','publisher_name').agg(F.sum('install').alias('install'))"
   ]
  },
  {
   "cell_type": "code",
   "execution_count": 63,
   "metadata": {},
   "outputs": [],
   "source": [
    "c=bb.filter(bb.feed=='grossing').withColumnRenamed(\"estimate\",\"revenue\").drop('feed')\n",
    "revenue=c.groupBy('month','country','product_id','publisher_id','product_name','publisher_name').agg(F.sum('revenue').alias('revenue'))"
   ]
  },
  {
   "cell_type": "code",
   "execution_count": 64,
   "metadata": {},
   "outputs": [],
   "source": [
    "downloads_and_revenue=install.join(revenue, on= ['product_name','month','country','product_id','publisher_id','publisher_name','product_name'], how='left')"
   ]
  },
  {
   "cell_type": "code",
   "execution_count": 65,
   "metadata": {},
   "outputs": [
    {
     "name": "stdout",
     "output_type": "stream",
     "text": [
      "+--------------------+-------+-------+----------+------------+-------------------+--------------------+-------+-------+\n",
      "|        product_name|  month|country|product_id|publisher_id|     publisher_name|        product_name|install|revenue|\n",
      "+--------------------+-------+-------+----------+------------+-------------------+--------------------+-------+-------+\n",
      "|#1 Siren Head Cal...|2020-08|     PH|1524300865|  1522196735|    Diane Pedneault|#1 Siren Head Cal...|     39|   null|\n",
      "|              #DRIVE|2019-05|     MY|1366180154|   498490654|   Dariusz Pietrala|              #DRIVE|   1054|   null|\n",
      "|           #SelfCare|2020-09|     PH|1378384555|  1176266442|Tru Luv Media, Inc.|           #SelfCare|    402|     10|\n",
      "|           #SelfCare|2020-09|     TH|1378384555|  1176266442|Tru Luv Media, Inc.|           #SelfCare|    244|   null|\n",
      "|           .Connect.|2018-12|     ID|1416467796|  1146168572|       Kishor Berde|           .Connect.|    548|   null|\n",
      "+--------------------+-------+-------+----------+------------+-------------------+--------------------+-------+-------+\n",
      "only showing top 5 rows\n",
      "\n"
     ]
    }
   ],
   "source": [
    "downloads_and_revenue.show(5)"
   ]
  },
  {
   "cell_type": "code",
   "execution_count": 66,
   "metadata": {},
   "outputs": [],
   "source": [
    "# TABLE_1"
   ]
  },
  {
   "cell_type": "code",
   "execution_count": 67,
   "metadata": {},
   "outputs": [],
   "source": [
    "list_of_market = ['ID','MY','PH','SG','TH','TW','VN']\n",
    "market = list_of_market[0]"
   ]
  },
  {
   "cell_type": "code",
   "execution_count": 68,
   "metadata": {},
   "outputs": [],
   "source": [
    "monthly_ios = spark.read.json('/ge/mkt/appannie/monthly/*/usage_data/{}/ios.json'.format(market)).withColumn('platform', F.lit('ios'))\n",
    "monthly_android = spark.read.json('/ge/mkt/appannie/monthly/*/usage_data/{}/android.json'.format(market)).withColumn('platform', F.lit('android'))\n",
    "monthly = monthly_ios.union(monthly_android).withColumn('country', F.lit(market))"
   ]
  },
  {
   "cell_type": "code",
   "execution_count": null,
   "metadata": {},
   "outputs": [],
   "source": [
    "for market in list_of_market[1:]:\n",
    "    monthly_ios = spark.read.json('/ge/mkt/appannie/monthly/*/usage_data/{}/ios.json'.format(market)).withColumn('platform', F.lit('ios'))\n",
    "    monthly_android = spark.read.json('/ge/mkt/appannie/monthly/*/usage_data/{}/android.json'.format(market)).withColumn('platform', F.lit('android'))\n",
    "    monthly_new = monthly_ios.union(monthly_android).withColumn('country', F.lit(market))\n",
    "    monthly = monthly.union(monthly_new)"
   ]
  },
  {
   "cell_type": "code",
   "execution_count": null,
   "metadata": {},
   "outputs": [],
   "source": [
    "active_users=monthly.select(monthly.product_name,monthly.end_date,monthly.country,monthly.publisher_name,monthly.active_users,monthly.product_id,monthly.publisher_id,).withColumn(\"month\", substring(monthly.end_date, 1, 7)).drop('end_date')"
   ]
  },
  {
   "cell_type": "code",
   "execution_count": null,
   "metadata": {},
   "outputs": [],
   "source": [
    "database_new=downloads_and_revenue.join(active_users, on= ['month','country','product_id', 'publisher_id','product_name','publisher_name'], how='inner')"
   ]
  },
  {
   "cell_type": "code",
   "execution_count": null,
   "metadata": {},
   "outputs": [],
   "source": [
    "h=spark.read.option(\"header\",True).csv(\"map_appid_new.csv\")\n",
    "h.select(h.appannie_id,h.cat_1,h.cat_2,h.cat_3)\n",
    "cat=h.selectExpr('appannie_id as product_id', 'cat_1 as category','cat_2 as category_VNG')"
   ]
  },
  {
   "cell_type": "code",
   "execution_count": null,
   "metadata": {},
   "outputs": [],
   "source": [
    "table_all=database_new.join(cat, on= ['product_id'], how='inner')"
   ]
  },
  {
   "cell_type": "code",
   "execution_count": null,
   "metadata": {},
   "outputs": [],
   "source": [
    "win1  = Window.partitionBy(\"country\",\"month\").orderBy(table_all.install.desc())\n",
    "win2 = Window.partitionBy(\"country\",\"month\").orderBy(table_all.revenue.desc())\n",
    "win3 = Window.partitionBy(\"country\",\"month\").orderBy(table_all.active_users.desc())\n",
    "table_1=table_all.withColumn(\"rank_install\", F.rank().over(win1)).withColumn(\"rank_revenue\", F.rank().over(win2)).withColumn(\"rank_active_users\", F.rank().over(win3))"
   ]
  },
  {
   "cell_type": "code",
   "execution_count": null,
   "metadata": {},
   "outputs": [
    {
     "name": "stdout",
     "output_type": "stream",
     "text": [
      "+--------------+-------+-------+--------------+--------------------+--------------------+-------+-------+------------+----------+---------------+------------+------------+-----------------+\n",
      "|    product_id|  month|country|  publisher_id|        product_name|      publisher_name|install|revenue|active_users|  category|   category_VNG|rank_install|rank_revenue|rank_active_users|\n",
      "+--------------+-------+-------+--------------+--------------------+--------------------+-------+-------+------------+----------+---------------+------------+------------+-----------------+\n",
      "|20600006642345|2018-08|     VN|20200001720791|Garena Liên Quân ...|Garena Mobile Pri...|1204776| 133045|     7709146|    Esport|           MOBA|           1|           1|                1|\n",
      "|20600008012481|2018-08|     VN|20200002303403|Mini World: Block...|        MiniPlay Inc| 497659|   8042|     2015636|    Action|      Adventure|          13|          32|                2|\n",
      "|20600001704583|2018-08|     VN|20200002602721|      My Talking Tom|     Outfit7 Limited| 651423|    646|     1953936|    Casual|    Interaction|           6|          68|                3|\n",
      "|20600008665467|2018-08|     VN|20200000197013|              Granny|             DVloper| 724289|     88|     1874656|    Action|      Adventure|           5|         102|                4|\n",
      "|20600003537431|2018-08|     VN|20200002602721|   My Talking Angela|     Outfit7 Limited| 439156|    969|     1561028|    Casual|    Interaction|          18|          62|                5|\n",
      "|    1150288115|2018-08|     VN|    1047094789|Garena Liên Quân ...|Garena Mobile Pri...| 440266|  59538|     1546597|    Esport|           MOBA|          17|           5|                6|\n",
      "|20600005938051|2018-08|     VN|20200001458923|Mobile Legends: B...|             Moonton| 442160|  15565|     1520947|    Esport|           MOBA|          16|          19|                7|\n",
      "|20600001580962|2018-08|     VN|20200000120379|      Clash of Clans|           Supercell| 187631|  52826|     1517246|  Strategy|         MMOSLG|          49|           7|                8|\n",
      "|20600000578686|2018-08|     VN|20200000069146|    Candy Crush Saga|                King| 363027|  11968|     1482573|    Casual|         Puzzle|          22|          25|                9|\n",
      "|20600001526240|2018-08|     VN|20200000032612|      Zombie Tsunami|   Mobigame S.A.R.L.| 470991|    712|     1447640|    Arcade|       Platform|          14|          65|               10|\n",
      "|20600009661460|2018-08|     VN|20200000254319|          Love Balls|        Lion Studios| 973032|   null|     1379464|    Arcade|       Platform|           3|         126|               11|\n",
      "|20600000718388|2018-08|     VN|20200000029268|        Temple Run 2|      Imangi Studios| 588077|    272|     1313148|    Arcade|       Platform|           8|          89|               12|\n",
      "|20600005484492|2018-08|     VN|20200001832940|          slither.io|     Lowtech Studios| 469406|   null|     1292091|    Arcade|       Platform|          15|         126|               13|\n",
      "|20600005383410|2018-08|     VN|20200002602721|Talking Tom Gold Run|     Outfit7 Limited| 518668|   1231|     1272574|    Arcade|       Platform|          11|          54|               14|\n",
      "|20600007244169|2018-08|     VN|20200002155786|  CrossFire: Legends| VNG Game Publishing| 269643|  64065|     1202609|    Esport|         MMOFPS|          28|           4|               15|\n",
      "|20600001446792|2018-08|     VN|20200001881800|Tien Len - Southe...|      Cherry's Games| 128322|   null|     1120942|       C&B|           Card|          76|         126|               16|\n",
      "|20600009413279|2018-08|     VN|20200002627564|             Rise Up|     Serkan Özyılmaz|1044091|   null|     1008069|    Arcade|       Platform|           2|         126|               17|\n",
      "|20600010039320|2018-08|     VN|20200002431133|   Lão Gia Cát Tường|Shanghai Changmou...| 558889|  67351|      795844|       RPG|TRPG&Cardbattle|          10|           3|               18|\n",
      "|20600006034476|2018-08|     VN|20200000230527|Block Craft 3D: B...|  Fun Games For Free| 346146|    498|      778159|Simulation|            C&M|          23|          73|               19|\n",
      "|20600001709648|2018-08|     VN|20200000120379|             Hay Day|           Supercell| 206212|  26310|      753124|Simulation|            C&M|          43|          13|               20|\n",
      "+--------------+-------+-------+--------------+--------------------+--------------------+-------+-------+------------+----------+---------------+------------+------------+-----------------+\n",
      "only showing top 20 rows\n",
      "\n"
     ]
    }
   ],
   "source": [
    "top_500_game=table_1.filter((table_1.rank_install<501)|(table_1.rank_revenue<501)|(table_1.rank_active_users<501))\n",
    "top_500_game.show(20)"
   ]
  },
  {
   "cell_type": "code",
   "execution_count": null,
   "metadata": {},
   "outputs": [],
   "source": [
    "# TABLE_2"
   ]
  },
  {
   "cell_type": "code",
   "execution_count": null,
   "metadata": {},
   "outputs": [],
   "source": [
    "k=table_all.select(table_all.publisher_id,table_all.publisher_name,table_all.country,table_all.install,table_all.revenue,table_all.active_users,table_all.month)\n",
    "l=k.groupBy('month','country','publisher_id','publisher_name').sum('install','revenue','active_users')"
   ]
  },
  {
   "cell_type": "code",
   "execution_count": null,
   "metadata": {},
   "outputs": [],
   "source": [
    "m = l.withColumnRenamed('sum(install)','install').withColumnRenamed('sum(revenue)','revenue').withColumnRenamed('sum(active_users)','active_users')"
   ]
  },
  {
   "cell_type": "code",
   "execution_count": null,
   "metadata": {},
   "outputs": [],
   "source": [
    "win4  = Window.partitionBy(\"country\",\"month\").orderBy(m.install.desc())\n",
    "win5 = Window.partitionBy(\"country\",\"month\").orderBy(m.revenue.desc())\n",
    "win6 = Window.partitionBy(\"country\",\"month\").orderBy(m.active_users.desc())\n",
    "table_2=m.withColumn(\"rank_install\", F.rank().over(win4)).withColumn(\"rank_revenue\", F.rank().over(win5)).withColumn(\"rank_active_users\", F.rank().over(win6))"
   ]
  },
  {
   "cell_type": "code",
   "execution_count": null,
   "metadata": {},
   "outputs": [],
   "source": [
    "top_50_pub=table_2.filter((table_2.rank_install<51)|(table_2.rank_revenue<51)|(table_2.rank_active_users<51))\n",
    "top_50_pub.show(20)"
   ]
  },
  {
   "cell_type": "code",
   "execution_count": null,
   "metadata": {},
   "outputs": [],
   "source": [
    "# TABLE_3"
   ]
  },
  {
   "cell_type": "code",
   "execution_count": null,
   "metadata": {},
   "outputs": [],
   "source": [
    "table_VN=table_all.filter(df.country=='VN')\n",
    "table_VN.show()"
   ]
  },
  {
   "cell_type": "code",
   "execution_count": null,
   "metadata": {},
   "outputs": [],
   "source": []
  },
  {
   "cell_type": "code",
   "execution_count": null,
   "metadata": {},
   "outputs": [],
   "source": [
    "#TABLE_4"
   ]
  },
  {
   "cell_type": "code",
   "execution_count": null,
   "metadata": {},
   "outputs": [],
   "source": [
    "table_PH=table_all.filter(df.country=='PH')\n",
    "table_PH.show()"
   ]
  },
  {
   "cell_type": "code",
   "execution_count": null,
   "metadata": {},
   "outputs": [],
   "source": []
  },
  {
   "cell_type": "code",
   "execution_count": null,
   "metadata": {},
   "outputs": [],
   "source": [
    "#TABLE_5"
   ]
  },
  {
   "cell_type": "code",
   "execution_count": null,
   "metadata": {},
   "outputs": [],
   "source": [
    "table_TW=table_all.filter(df.country=='TW')\n",
    "table_TW.show()"
   ]
  },
  {
   "cell_type": "code",
   "execution_count": null,
   "metadata": {},
   "outputs": [],
   "source": []
  },
  {
   "cell_type": "code",
   "execution_count": null,
   "metadata": {},
   "outputs": [],
   "source": [
    "#TABLE_6"
   ]
  },
  {
   "cell_type": "code",
   "execution_count": null,
   "metadata": {},
   "outputs": [],
   "source": [
    "table_ID=table_all.filter(df.country=='ID')\n",
    "table_ID.show()"
   ]
  },
  {
   "cell_type": "code",
   "execution_count": null,
   "metadata": {},
   "outputs": [],
   "source": []
  },
  {
   "cell_type": "code",
   "execution_count": null,
   "metadata": {},
   "outputs": [],
   "source": [
    "#TABLE_7"
   ]
  },
  {
   "cell_type": "code",
   "execution_count": null,
   "metadata": {},
   "outputs": [],
   "source": [
    "table_SG=table_all.filter(df.country=='SG')\n",
    "table_SG.show()"
   ]
  },
  {
   "cell_type": "code",
   "execution_count": null,
   "metadata": {},
   "outputs": [],
   "source": []
  },
  {
   "cell_type": "code",
   "execution_count": null,
   "metadata": {},
   "outputs": [],
   "source": [
    "#TABLE_8"
   ]
  },
  {
   "cell_type": "code",
   "execution_count": null,
   "metadata": {},
   "outputs": [],
   "source": [
    "table_TH=table_all.filter(df.country=='TH')\n",
    "table_TH.show()"
   ]
  },
  {
   "cell_type": "code",
   "execution_count": null,
   "metadata": {},
   "outputs": [],
   "source": []
  },
  {
   "cell_type": "code",
   "execution_count": null,
   "metadata": {},
   "outputs": [],
   "source": [
    "#TABLE_9"
   ]
  },
  {
   "cell_type": "code",
   "execution_count": null,
   "metadata": {},
   "outputs": [],
   "source": [
    "table_MY=table_all.filter(df.country=='MY')\n",
    "table_MY.show()"
   ]
  },
  {
   "cell_type": "code",
   "execution_count": null,
   "metadata": {},
   "outputs": [],
   "source": []
  },
  {
   "cell_type": "code",
   "execution_count": null,
   "metadata": {},
   "outputs": [],
   "source": []
  },
  {
   "cell_type": "code",
   "execution_count": null,
   "metadata": {},
   "outputs": [],
   "source": []
  }
 ],
 "metadata": {
  "kernelspec": {
   "display_name": "PySpark - Large",
   "language": "python3",
   "name": "py3spark2-large"
  },
  "language_info": {
   "codemirror_mode": {
    "name": "ipython",
    "version": 3
   },
   "file_extension": ".py",
   "mimetype": "text/x-python",
   "name": "python",
   "nbconvert_exporter": "python",
   "pygments_lexer": "ipython3",
   "version": "3.6.8"
  }
 },
 "nbformat": 4,
 "nbformat_minor": 4
}
