{
 "cells": [
  {
   "cell_type": "code",
   "execution_count": 1,
   "metadata": {},
   "outputs": [],
   "source": [
    "from pyspark.sql.functions import col,udf,monotonically_increasing_id, row_number\n",
    "from pyspark.sql import SQLContext, types\n",
    "from pyspark.sql.functions import *\n",
    "from pyspark.sql import functions as F, SparkSession\n",
    "from pyspark.sql import Window\n",
    "import pyspark.sql.functions as psf\n",
    "from functools import reduce\n",
    "from pyspark.sql import DataFrame\n",
    "import numpy as np\n",
    "import pandas as pd\n",
    "from datetime import datetime, timedelta\n",
    "from pyspark.sql.types import *"
   ]
  },
  {
   "cell_type": "code",
   "execution_count": 2,
   "metadata": {},
   "outputs": [],
   "source": [
    "input_path='/ge/gamelogs/codm_426/ingame/2021-06-28/codmvng_midasbuy_portal_cst.*'\n",
    "ds = '2021-06-28'"
   ]
  },
  {
   "cell_type": "code",
   "execution_count": 3,
   "metadata": {},
   "outputs": [],
   "source": [
    "#yesterday = datetime.strptime(ds, '%Y-%m-%d').date() - timedelta(days=1)\n",
    "#yesterday = str(yesterday)[:10]\n",
    "df_now = spark.read.csv(input_path, sep='|', mode=\"DROPMALFORMED\", header=False)\n",
    "#input_path_yesterday = input_path.replace(ds, yesterday)\n",
    "#df_yesterday = spark.read.csv(input_path_yesterday, sep='|', mode=\"DROPMALFORMED\", header=False)\n",
    "df = df_now#.union(df_yesterday)\n",
    "\n",
    "df = df.withColumnRenamed(\"_c0\", \"logdate\") \\\n",
    "    .withColumnRenamed(\"_c1\", \"fsequence_no\") \\\n",
    "    .withColumnRenamed(\"_c2\", \"ftran_time\") \\\n",
    "    .withColumnRenamed(\"_c3\", \"ftran_type\") \\\n",
    "    .withColumnRenamed(\"_c4\", \"fpay_type\") \\\n",
    "    .withColumnRenamed(\"_c5\", \"fpay_chan\") \\\n",
    "    .withColumnRenamed(\"_c6\", \"fpay_sub_chan\") \\\n",
    "    .withColumnRenamed(\"_c9\", \"forder_no\") \\\n",
    "    .withColumnRenamed(\"_c10\", \"fstatus\") \\\n",
    "    .withColumnRenamed(\"_c15\", \"user_num\") \\\n",
    "    .withColumnRenamed(\"_c16\", \"ftran_amt\") \\\n",
    "    .withColumnRenamed(\"_c17\", \"ftran_info\") \\\n",
    "    .withColumnRenamed(\"_c18\", \"ftran_detail\") \\\n",
    "    .withColumnRenamed(\"_c19\", \"ftran_bak\") \\\n",
    "    .withColumnRenamed(\"_c26\", \"ext_str1\") \\\n",
    "    .withColumnRenamed(\"_c28\", \"isource\") \\\n",
    "    .withColumnRenamed(\"_c29\", \"ftran_real_amt\")\n",
    "\n",
    "df = df.withColumn('os', F.when((F.col(\"fpay_chan\")) == \"iap\", \"ios\")\n",
    "                   .when((F.col(\"fpay_chan\")) == \"gwallet\", \"android\")\n",
    "                   .otherwise('web'))\n",
    "\n",
    "df = df.withColumn(\"ftran_time\", F.from_unixtime(F.col('ftran_time'))).withColumn('time',F.substring('ftran_time',1,10))\n",
    "df = df.filter(df.time == ds).drop('time')\n",
    "df = df.withColumn(\"ds\", F.lit(ds))"
   ]
  },
  {
   "cell_type": "code",
   "execution_count": 4,
   "metadata": {},
   "outputs": [
    {
     "name": "stdout",
     "output_type": "stream",
     "text": [
      "+--------+--------------------+-------------------+----------+---------+---------+-------------+---------+----+---------+-------+----+----+----------+----------+----------+---------+----------+------------+--------------------+----+-------------+------------+----------+----+----+--------------------+--------------------+-------+--------------+----+----+----+----+----+----+----+----+----+----+----+----+----+----+----+-------+----------------+----+---------+--------------------+----+-------+---+----------+\n",
      "| logdate|        fsequence_no|         ftran_time|ftran_type|fpay_type|fpay_chan|fpay_sub_chan|      _c7| _c8|forder_no|fstatus|_c11|_c12|      _c13|      _c14|  user_num|ftran_amt|ftran_info|ftran_detail|           ftran_bak|_c20|         _c21|        _c22|      _c23|_c24|_c25|            ext_str1|                _c27|isource|ftran_real_amt|_c30|_c31|_c32|_c33|_c34|_c35|_c36|_c37|_c38|_c39|_c40|_c41|_c42|_c43|_c44|   _c45|            _c46|_c47|     _c48|                _c49|_c50|   _c51| os|        ds|\n",
      "+--------+--------------------+-------------------+----------+---------+---------+-------------+---------+----+---------+-------+----+----+----------+----------+----------+---------+----------+------------+--------------------+----+-------------+------------+----------+----+----+--------------------+--------------------+-------+--------------+----+----+----+----+----+----+----+----+----+----+----+----+----+----+----+-------+----------------+----+---------+--------------------+----+-------+---+----------+\n",
      "|20210628|-APP97801-2021062...|2021-06-28 08:18:28|       pay|        2|   os_vng|            1|-APP97801|1705|405652142|      0|  OK|   0|1854000000|1854000000|1854000000|  2000000|        CP|          64|CurrencyType=VND&...|   0|115.78.167.80|9.26.126.195|9.208.28.8| cgi| 213|Balance=93&Countr...|FirstSave=&IsFirs...|  30151|           640|   0|   0|   0|   0|   0|   0|   0|   0|   0|null|null|null|null|null|null|unisave|2000000.00000000| 100|hy_gameid|11508632755809650315|null|2000000|web|2021-06-28|\n",
      "+--------+--------------------+-------------------+----------+---------+---------+-------------+---------+----+---------+-------+----+----+----------+----------+----------+---------+----------+------------+--------------------+----+-------------+------------+----------+----+----+--------------------+--------------------+-------+--------------+----+----+----+----+----+----+----+----+----+----+----+----+----+----+----+-------+----------------+----+---------+--------------------+----+-------+---+----------+\n",
      "only showing top 1 row\n",
      "\n"
     ]
    }
   ],
   "source": [
    "df.show(1)"
   ]
  },
  {
   "cell_type": "code",
   "execution_count": 5,
   "metadata": {},
   "outputs": [
    {
     "name": "stdout",
     "output_type": "stream",
     "text": [
      "+-------+------------+----------+----------+---------+---------+-------------+---+---+---------+-------+----+----+----+----+--------+---------+----------+------------+---------+----+----+----+----+----+----+--------+----+-------+--------------+----+----+----+----+----+----+----+----+----+----+----+----+----+----+----+----+----+----+----+----+----+----+---+---+\n",
      "|logdate|fsequence_no|ftran_time|ftran_type|fpay_type|fpay_chan|fpay_sub_chan|_c7|_c8|forder_no|fstatus|_c11|_c12|_c13|_c14|user_num|ftran_amt|ftran_info|ftran_detail|ftran_bak|_c20|_c21|_c22|_c23|_c24|_c25|ext_str1|_c27|isource|ftran_real_amt|_c30|_c31|_c32|_c33|_c34|_c35|_c36|_c37|_c38|_c39|_c40|_c41|_c42|_c43|_c44|_c45|_c46|_c47|_c48|_c49|_c50|_c51| os| ds|\n",
      "+-------+------------+----------+----------+---------+---------+-------------+---+---+---------+-------+----+----+----+----+--------+---------+----------+------------+---------+----+----+----+----+----+----+--------+----+-------+--------------+----+----+----+----+----+----+----+----+----+----+----+----+----+----+----+----+----+----+----+----+----+----+---+---+\n",
      "+-------+------------+----------+----------+---------+---------+-------------+---+---+---------+-------+----+----+----+----+--------+---------+----------+------------+---------+----+----+----+----+----+----+--------+----+-------+--------------+----+----+----+----+----+----+----+----+----+----+----+----+----+----+----+----+----+----+----+----+----+----+---+---+\n",
      "\n"
     ]
    }
   ],
   "source": [
    "df.filter(df.ftran_time.contains('2021-06-28 16:')).show()"
   ]
  },
  {
   "cell_type": "code",
   "execution_count": 15,
   "metadata": {},
   "outputs": [
    {
     "name": "stdout",
     "output_type": "stream",
     "text": [
      "+----------+--------------+\n",
      "|ds        |sum(ftran_amt)|\n",
      "+----------+--------------+\n",
      "|2021-06-28|2112630826    |\n",
      "+----------+--------------+\n",
      "\n"
     ]
    }
   ],
   "source": [
    "df.groupBy(df.ds).sum('ftran_amt').show(truncate=False)"
   ]
  },
  {
   "cell_type": "code",
   "execution_count": 78,
   "metadata": {},
   "outputs": [
    {
     "data": {
      "text/plain": [
       "508"
      ]
     },
     "execution_count": 78,
     "metadata": {},
     "output_type": "execute_result"
    }
   ],
   "source": [
    "df.count()"
   ]
  },
  {
   "cell_type": "code",
   "execution_count": 79,
   "metadata": {},
   "outputs": [
    {
     "name": "stdout",
     "output_type": "stream",
     "text": [
      "+--------+-------------------------------+-------------------+----------+---------+---------+-------------+---------+----+---------+-------+----+----+----------+----------+----------+---------+----------+------------+----------------------------------------------------------------+----+--------------+-----------+-----------+----+----+-----------------------------------------------------------------------------------------------------------------------------------------------------------------------------------------------------------------------------------------------------------------------------------------------------------------------------------------------------------------------------------------------------------------------------------------------------------------------------------------------------------------------------------------------------------------------------------------------------------------------------------------------------------------------------------------------------------------------------------------------------------------------------------------------------------------------------------------------------------------------------------------------------------------------------------------------------------------------------------------------------------------------------------------------------------------------------------------------------------------------------------------------+-------------------------------------------------------------------+-------+--------------+----+----+----+----+----+----+----+----+----+----+----+---------+--------------------+----+--------+-------+------------------+----+-------+----------+\n",
      "|logdate |fsequence_no                   |ftran_time         |ftran_type|fpay_type|fpay_chan|fpay_sub_chan|_c7      |_c8 |forder_no|fstatus|_c11|_c12|_c13      |_c14      |user_num  |ftran_amt|ftran_info|ftran_detail|ftran_bak                                                       |_c20|_c21          |_c22       |_c23       |_c24|_c25|ext_str1                                                                                                                                                                                                                                                                                                                                                                                                                                                                                                                                                                                                                                                                                                                                                                                                                                                                                                                                                                                                                                                                                                                                       |_c27                                                               |isource|ftran_real_amt|_c30|_c31|_c32|_c33|_c34|_c35|_c36|_c37|_c38|_c39|_c40|_c41     |_c42                |_c43|_c44    |_c45   |_c46              |_c47|os     |ds        |\n",
      "+--------+-------------------------------+-------------------+----------+---------+---------+-------------+---------+----+---------+-------+----+----+----------+----------+----------+---------+----------+------------+----------------------------------------------------------------+----+--------------+-----------+-----------+----+----+-----------------------------------------------------------------------------------------------------------------------------------------------------------------------------------------------------------------------------------------------------------------------------------------------------------------------------------------------------------------------------------------------------------------------------------------------------------------------------------------------------------------------------------------------------------------------------------------------------------------------------------------------------------------------------------------------------------------------------------------------------------------------------------------------------------------------------------------------------------------------------------------------------------------------------------------------------------------------------------------------------------------------------------------------------------------------------------------------------------------------------------------------+-------------------------------------------------------------------+-------+--------------+----+----+----+----+----+----+----+----+----+----+----+---------+--------------------+----+--------+-------+------------------+----+-------+----------+\n",
      "|20210727|-APP97801-20210727-Nup39OcfTWoR|2021-07-28 06:57:33|pay       |2        |gwallet  |2            |-APP97801|1537|4345917  |0      |OK  |0   |1854000000|1854000000|1854000000|10900000 |CP        |400         |CurrencyUnit=1&CurrencyType=VND&CurrencyAmt=109000.00&Country=VN|0   |103.199.41.232|172.24.0.19|172.24.0.15|cgi |49  |uni_routeid=1&uni_zoneid=1&ori_zoneid=1&uni_providetype=7&productid=com.vng.codm.item499&IapProductId=com.vng.codm.item499&app_metadata=&IapQuantity=1&IapSubscription=1&IapBid=com.vng.codmvn&IapAppleId=1450023040&IapFrom=wechat&uni_appid=1450023040&uni_openid=15276184064050863753&channel_id=00000000-android-00000000-fb-683331105514755-15276184064050863753-st_dummy&uni_clientver=android&uni_acctext1=ext&uni_acctext2=ext&uni_acctext3=ext&uni_zonecode=66291_android_1_ext_ext_ext&uni_apptoken=FC76198B51B9BA947AA24DCC7F805D8E22651&sdkversion=androidoversea_v4.3.14&uni_version=v3&buy_type=buycurrency&session_token=da5fc0f6-dc45-41a0-9433-b7540088c873&wf_info=type%3Dsave%26gw_amt%3D109000000000%26gw_currency%3DVND%26payItem%3D400%26&riskctl_uuid=61009d43-7f1d-03d3-6074-3a8f9a67f0d2&sub_channel_name=&user_buy_type=save&MPRuleID=DRM200324000000058996&usr_openid=15276184064050863753&provide_openid=15276184064050863753&Country=VN&drm_info=version%3D3.0&BillNo=202107274345917&InGwalletEnv=&ProvideReturn=ThirdOrderId%3DGPA.3359-3267-5658-04112%26ReceiptHash%3D10665435319396558542-5832629826944359054|FirstSave=&IsFirstSave=0&TotalGen=480&TotalSub=1280&TotalValue=1200|10000  |4000          |0   |0   |0   |0   |0   |0   |0   |0   |0   |null|null|hy_gameid|15276184064050863753|null|10900000|unisave|109000.00.00000000|100 |android|2021-07-27|\n",
      "+--------+-------------------------------+-------------------+----------+---------+---------+-------------+---------+----+---------+-------+----+----+----------+----------+----------+---------+----------+------------+----------------------------------------------------------------+----+--------------+-----------+-----------+----+----+-----------------------------------------------------------------------------------------------------------------------------------------------------------------------------------------------------------------------------------------------------------------------------------------------------------------------------------------------------------------------------------------------------------------------------------------------------------------------------------------------------------------------------------------------------------------------------------------------------------------------------------------------------------------------------------------------------------------------------------------------------------------------------------------------------------------------------------------------------------------------------------------------------------------------------------------------------------------------------------------------------------------------------------------------------------------------------------------------------------------------------------------------+-------------------------------------------------------------------+-------+--------------+----+----+----+----+----+----+----+----+----+----+----+---------+--------------------+----+--------+-------+------------------+----+-------+----------+\n",
      "only showing top 1 row\n",
      "\n"
     ]
    }
   ],
   "source": [
    "df.show(1,truncate=False)"
   ]
  },
  {
   "cell_type": "code",
   "execution_count": 80,
   "metadata": {},
   "outputs": [
    {
     "name": "stdout",
     "output_type": "stream",
     "text": [
      "+-------------------+\n",
      "|         ftran_time|\n",
      "+-------------------+\n",
      "|2021-07-28 06:58:03|\n",
      "|2021-07-28 06:57:33|\n",
      "|2021-07-28 06:35:16|\n",
      "|2021-07-28 06:29:15|\n",
      "|2021-07-28 05:30:11|\n",
      "|2021-07-28 04:25:17|\n",
      "|2021-07-28 04:22:16|\n",
      "|2021-07-28 03:46:05|\n",
      "|2021-07-28 03:13:28|\n",
      "|2021-07-28 03:13:11|\n",
      "|2021-07-28 02:54:08|\n",
      "|2021-07-28 02:53:51|\n",
      "|2021-07-28 02:41:37|\n",
      "|2021-07-28 02:39:58|\n",
      "|2021-07-28 02:36:00|\n",
      "|2021-07-28 02:23:31|\n",
      "|2021-07-28 02:15:59|\n",
      "|2021-07-28 02:15:14|\n",
      "|2021-07-28 02:14:01|\n",
      "|2021-07-28 02:13:32|\n",
      "+-------------------+\n",
      "only showing top 20 rows\n",
      "\n"
     ]
    }
   ],
   "source": [
    "df.select('ftran_time').orderBy(df.ftran_time.desc()).show()"
   ]
  },
  {
   "cell_type": "code",
   "execution_count": 30,
   "metadata": {},
   "outputs": [],
   "source": [
    "iap_item_id_pattern = r'IapProductId=(\\S+?)&'\n",
    "item_id_pattern = r'productid=(\\S+?)&'\n",
    "transaction_id_pattern_iap = r'ProvideReturn=.*?(GPA\\.\\d+-\\d+-\\d+-\\d+)'\n",
    "provide_openid_pattern = r'provide_openid=(\\d+?)&'\n",
    "transaction_id_pattern_webpay = r'UserProvideMsg=.+?(\\d+?)&'\n",
    "\n",
    "android_currency_type_pattern = r'CurrencyType=(\\S+?)&'\n",
    "android_amt_pattern = r'CurrencyAmt=([-+]?\\d*\\.\\d+|\\d+)&'\n",
    "\n",
    "ios_currency_type_pattern = r'IapCurrencyType=(\\S+?)&'\n",
    "ios_amt_pattern = r'IapAmt=([-+]?\\d*\\.\\d+|\\d+)&'\n",
    "\n",
    "df_result = df.select('*', F.regexp_extract('ext_str1', iap_item_id_pattern, 1).alias('iap_product_id'),\n",
    "                      F.regexp_extract('ext_str1', item_id_pattern, 1).alias('product_id'),\n",
    "                      F.regexp_extract('ext_str1', provide_openid_pattern, 1).alias('provide_openid'),\n",
    "                      F.when((F.col(\"fpay_chan\")) == \"iap\",\n",
    "                             F.regexp_extract('ftran_bak', ios_currency_type_pattern, 1))\n",
    "                                .otherwise(F.regexp_extract('ftran_bak', android_currency_type_pattern, 1))\n",
    "                                    .alias('bak_currency_type'),\n",
    "                      F.when((F.col(\"fpay_chan\")) == \"iap\",\n",
    "                             F.regexp_extract('ftran_bak', ios_amt_pattern, 1))\n",
    "                                .otherwise(F.regexp_extract('ftran_bak', android_amt_pattern, 1))\n",
    "                                    .alias('bak_amt'),\n",
    "                      F.regexp_extract('ext_str1', transaction_id_pattern_iap, 1).alias('transanctionidiap'),\n",
    "                      F.regexp_extract('ext_str1', transaction_id_pattern_webpay, 1).alias('transanctionidwebpay')\n",
    "                      )"
   ]
  },
  {
   "cell_type": "code",
   "execution_count": 31,
   "metadata": {},
   "outputs": [],
   "source": [
    "df_result_selected = df_result.select('fsequence_no', 'ftran_time', 'ftran_type',\n",
    "                                      'fpay_type', 'fpay_chan', 'fpay_sub_chan',\n",
    "                                      'forder_no', 'fstatus', 'user_num', 'os',\n",
    "                                      'ftran_amt', 'ftran_info', 'ftran_detail',\n",
    "                                      'isource', 'ftran_real_amt',\n",
    "                                      'iap_product_id', 'product_id', 'provide_openid',\n",
    "                                      'transanctionidiap', 'transanctionidwebpay',\n",
    "                                      'bak_currency_type', 'bak_amt',\n",
    "                                      'ds')\n",
    "df_result_selected=df_result_selected.withColumn('bak_amt', df_result_selected['bak_amt'].cast(IntegerType()))"
   ]
  },
  {
   "cell_type": "code",
   "execution_count": 32,
   "metadata": {},
   "outputs": [
    {
     "name": "stdout",
     "output_type": "stream",
     "text": [
      "+-------------------------------+-------------------+----------+---------+---------+-------------+---------+-------+----------+---+---------+----------+------------+-------+--------------+-------------------+-------------------+--------------------+-----------------+--------------------+-----------------+-------+----------+\n",
      "|fsequence_no                   |ftran_time         |ftran_type|fpay_type|fpay_chan|fpay_sub_chan|forder_no|fstatus|user_num  |os |ftran_amt|ftran_info|ftran_detail|isource|ftran_real_amt|iap_product_id     |product_id         |provide_openid      |transanctionidiap|transanctionidwebpay|bak_currency_type|bak_amt|ds        |\n",
      "+-------------------------------+-------------------+----------+---------+---------+-------------+---------+-------+----------+---+---------+----------+------------+-------+--------------+-------------------+-------------------+--------------------+-----------------+--------------------+-----------------+-------+----------+\n",
      "|-APP97801-20210628-9Hu0B8mitLsP|2021-06-28 08:18:28|pay       |2        |os_vng   |1            |405652142|0      |1854000000|web|2000000  |CP        |64          |30151  |640           |com.vng.codm.sms20a|com.vng.codm.sms20a|11508632755809650315|                 |1939539242271129600 |VND              |20000  |2021-06-28|\n",
      "+-------------------------------+-------------------+----------+---------+---------+-------------+---------+-------+----------+---+---------+----------+------------+-------+--------------+-------------------+-------------------+--------------------+-----------------+--------------------+-----------------+-------+----------+\n",
      "only showing top 1 row\n",
      "\n"
     ]
    }
   ],
   "source": [
    "df_result_selected.show(1,truncate=False)"
   ]
  },
  {
   "cell_type": "code",
   "execution_count": 33,
   "metadata": {},
   "outputs": [
    {
     "name": "stdout",
     "output_type": "stream",
     "text": [
      "+----------+------------+\n",
      "|ds        |sum(bak_amt)|\n",
      "+----------+------------+\n",
      "|2021-06-28|9520000     |\n",
      "+----------+------------+\n",
      "\n"
     ]
    }
   ],
   "source": [
    "df_result_selected.groupBy(df_result_selected.ds).sum('bak_amt').show(truncate=False)"
   ]
  },
  {
   "cell_type": "code",
   "execution_count": 69,
   "metadata": {},
   "outputs": [
    {
     "data": {
      "text/plain": [
       "440"
      ]
     },
     "execution_count": 69,
     "metadata": {},
     "output_type": "execute_result"
    }
   ],
   "source": [
    "df_result_selected.count()"
   ]
  },
  {
   "cell_type": "code",
   "execution_count": 70,
   "metadata": {},
   "outputs": [
    {
     "data": {
      "text/plain": [
       "440"
      ]
     },
     "execution_count": 70,
     "metadata": {},
     "output_type": "execute_result"
    }
   ],
   "source": [
    "df_result_selected.distinct().count()"
   ]
  },
  {
   "cell_type": "code",
   "execution_count": null,
   "metadata": {},
   "outputs": [],
   "source": []
  }
 ],
 "metadata": {
  "kernelspec": {
   "display_name": "PySpark - IFRS",
   "language": "python3",
   "name": "py3spark2-ifrs"
  },
  "language_info": {
   "codemirror_mode": {
    "name": "ipython",
    "version": 3
   },
   "file_extension": ".py",
   "mimetype": "text/x-python",
   "name": "python",
   "nbconvert_exporter": "python",
   "pygments_lexer": "ipython3",
   "version": "3.6.8"
  }
 },
 "nbformat": 4,
 "nbformat_minor": 4
}
